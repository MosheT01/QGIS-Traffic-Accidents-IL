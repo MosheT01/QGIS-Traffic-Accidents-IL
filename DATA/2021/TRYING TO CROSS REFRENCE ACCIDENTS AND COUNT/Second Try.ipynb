{
 "cells": [
  {
   "cell_type": "code",
   "execution_count": 2,
   "metadata": {},
   "outputs": [
    {
     "name": "stdout",
     "output_type": "stream",
     "text": [
      "Traffic Count Data:\n",
      "   shnat_seker  kvish  keta  maslul  hodesh  yom  yom_bashavua  shaa  \\\n",
      "0         2021      1    20       1       7    6             3     0   \n",
      "1         2021      1    20       1       7    6             3     1   \n",
      "2         2021      1    20       1       7    6             3     2   \n",
      "3         2021      1    20       1       7    6             3     3   \n",
      "4         2021      1    20       1       7    6             3     4   \n",
      "\n",
      "   kamut_kle_rehev         X         Y  \n",
      "0             1486  183772.0  657940.0  \n",
      "1             1170  183772.0  657940.0  \n",
      "2              795  183772.0  657940.0  \n",
      "3              601  183772.0  657940.0  \n",
      "4             1134  183772.0  657940.0  \n",
      "\n",
      "Accident Data:\n",
      "   pk_teuna_fikt  sug_tik  THUM_GEOGRAFI  SUG_DEREH  SEMEL_YISHUV  REHOV1  \\\n",
      "0     2020031644        1              1          1          1061   159.0   \n",
      "1     2020079871        1              1          4             0     NaN   \n",
      "2     2020081980        1              1          1          3000  1105.0   \n",
      "3     2021000007        1              1          1          4000  1394.0   \n",
      "4     2021000010        1              1          3             0     NaN   \n",
      "\n",
      "   REHOV2  BAYIT  ZOMET_IRONI  KVISH1  ...  MEKOM_HAZIYA  KIVUN_HAZIYA  MAHOZ  \\\n",
      "0   275.0    NaN    7840004.0     NaN  ...             3             1      2   \n",
      "1     NaN    NaN          NaN  8966.0  ...             0             9      2   \n",
      "2  1307.0    NaN   26640236.0     NaN  ...             0             9      1   \n",
      "3  1391.0    NaN   17000742.0     NaN  ...             0             9      3   \n",
      "4     NaN    NaN          NaN    89.0  ...             0             9      2   \n",
      "\n",
      "   NAFA  EZOR_TIVI  MAAMAD_MINIZIPALI  ZURAT_ISHUV  STATUS_IGUN         X  \\\n",
      "0    23        237                0.0           16            1  230441.0   \n",
      "1    21        212               99.0           99            1  245802.0   \n",
      "2    11        111                0.0           12            1  218356.0   \n",
      "3    31        311                0.0           13            1  201379.0   \n",
      "4    45        245               99.0           99            1  216335.0   \n",
      "\n",
      "          Y  \n",
      "0  734148.0  \n",
      "1  772308.0  \n",
      "2  629343.0  \n",
      "3  742666.0  \n",
      "4  768965.0  \n",
      "\n",
      "[5 rows x 45 columns]\n"
     ]
    }
   ],
   "source": [
    "import pandas as pd\n",
    "\n",
    "# Load the traffic count data\n",
    "traffic_count_df = pd.read_csv('../count/THINGS WE DID/merged_traffic_count_with_coordinates.csv')\n",
    "\n",
    "# Load the accident data\n",
    "accident_df = pd.read_csv('../accidents/puf Äùàûÿ.csv', encoding='ISO-8859-8')\n",
    "\n",
    "# Display the first few rows of each dataset\n",
    "print(\"Traffic Count Data:\")\n",
    "print(traffic_count_df.head())\n",
    "\n",
    "print(\"\\nAccident Data:\")\n",
    "print(accident_df.head())\n"
   ]
  },
  {
   "cell_type": "code",
   "execution_count": 13,
   "metadata": {},
   "outputs": [
    {
     "name": "stdout",
     "output_type": "stream",
     "text": [
      "<bound method DataFrame.all of      pk_teuna_fikt  sug_tik  THUM_GEOGRAFI  SUG_DEREH  SEMEL_YISHUV  REHOV1  \\\n",
      "0       2021000384        1              1          4             0     NaN   \n",
      "1       2021000384        1              1          4             0     NaN   \n",
      "2       2021000928        1              1          4             0     NaN   \n",
      "3       2021001234        1              1          4             0     NaN   \n",
      "4       2021001234        1              1          4             0     NaN   \n",
      "..             ...      ...            ...        ...           ...     ...   \n",
      "888     2021094349        1              1          3             0     NaN   \n",
      "889     2021094349        1              1          3             0     NaN   \n",
      "890     2021094349        1              1          3             0     NaN   \n",
      "891     2021096395        1              1          3             0     NaN   \n",
      "892     2021099064        1              1          3             0     NaN   \n",
      "\n",
      "     REHOV2  BAYIT  ZOMET_IRONI  KVISH1  ...  EZOR_TIVI  MAAMAD_MINIZIPALI  \\\n",
      "0       NaN    NaN          NaN   375.0  ...        112               99.0   \n",
      "1       NaN    NaN          NaN   375.0  ...        112               99.0   \n",
      "2       NaN    NaN          NaN     4.0  ...        432               99.0   \n",
      "3       NaN    NaN          NaN    40.0  ...        626               99.0   \n",
      "4       NaN    NaN          NaN    40.0  ...        626               99.0   \n",
      "..      ...    ...          ...     ...  ...        ...                ...   \n",
      "888     NaN    NaN          NaN     4.0  ...        513               99.0   \n",
      "889     NaN    NaN          NaN     4.0  ...        513               99.0   \n",
      "890     NaN    NaN          NaN     4.0  ...        513               99.0   \n",
      "891     NaN    NaN          NaN    70.0  ...        245               99.0   \n",
      "892     NaN    NaN          NaN    55.0  ...        421               99.0   \n",
      "\n",
      "     ZURAT_ISHUV  STATUS_IGUN         X         Y  kvish  keta  yom  \\\n",
      "0             99            1  199463.0  621415.0    375    12    5   \n",
      "1             99            1  199463.0  621415.0    375   810    5   \n",
      "2             99            1  183528.0  658855.0      4   220    1   \n",
      "3             99            1  179491.0  531672.0     40   130    2   \n",
      "4             99            1  179491.0  531672.0     40   192    2   \n",
      "..           ...          ...       ...       ...    ...   ...  ...   \n",
      "888           99            1  182603.0  657534.0     44    40    2   \n",
      "889           99            1  182603.0  657534.0     44    50    2   \n",
      "890           99            1  182603.0  657534.0     44    60    2   \n",
      "891           99            1  213712.0  769051.0     89    60    2   \n",
      "892           99            1  196152.0  675364.0    444    21    5   \n",
      "\n",
      "     kamut_kle_rehev  \n",
      "0         270.854167  \n",
      "1         493.020833  \n",
      "2         728.833333  \n",
      "3         818.812500  \n",
      "4         827.062500  \n",
      "..               ...  \n",
      "888      1017.500000  \n",
      "889       816.833333  \n",
      "890      1608.479167  \n",
      "891       365.625000  \n",
      "892       758.729167  \n",
      "\n",
      "[893 rows x 49 columns]>\n"
     ]
    }
   ],
   "source": [
    "import pandas as pd\n",
    "\n",
    "# Rename columns for consistency\n",
    "accident_df.rename(columns={'HODESH_TEUNA': 'hodesh', 'SHAA': 'shaa'}, inplace=True)\n",
    "\n",
    "# Aggregate traffic data by road segment, month, and day\n",
    "aggregated_traffic_df = traffic_count_df.groupby(['kvish', 'keta', 'hodesh', 'yom']).agg({'kamut_kle_rehev': 'mean'}).reset_index()\n",
    "\n",
    "# Merge the aggregated traffic data with the accident data using KVISH1\n",
    "merged_df_kvish1 = pd.merge(accident_df, aggregated_traffic_df, left_on=['KVISH1', 'hodesh', 'YOM_BASHAVUA'], right_on=['kvish', 'hodesh', 'yom'], how='inner')\n",
    "\n",
    "# Merge the aggregated traffic data with the accident data using KVISH2\n",
    "merged_df_kvish2 = pd.merge(accident_df, aggregated_traffic_df, left_on=['KVISH2', 'hodesh', 'YOM_BASHAVUA'], right_on=['kvish', 'hodesh', 'yom'], how='inner')\n",
    "\n",
    "# Combine both results\n",
    "merged_df = pd.concat([merged_df_kvish1, merged_df_kvish2]).drop_duplicates().reset_index(drop=True)\n",
    "\n",
    "# Display the merged DataFrame\n",
    "print(merged_df.all)\n"
   ]
  },
  {
   "cell_type": "code",
   "execution_count": 9,
   "metadata": {},
   "outputs": [
    {
     "name": "stdout",
     "output_type": "stream",
     "text": [
      "Correlation between traffic volume and accident severity: 0.14700817558122994\n"
     ]
    }
   ],
   "source": [
    "correlation = merged_df['kamut_kle_rehev'].corr(merged_df['HUMRAT_TEUNA'])\n",
    "print(f\"Correlation between traffic volume and accident severity: {correlation}\")\n"
   ]
  },
  {
   "cell_type": "code",
   "execution_count": 10,
   "metadata": {},
   "outputs": [
    {
     "data": {
      "image/png": "[encoded data removed]",
      "text/plain": [
       "<Figure size 640x480 with 1 Axes>"
      ]
     },
     "metadata": {},
     "output_type": "display_data"
    }
   ],
   "source": [
    "import matplotlib.pyplot as plt\n",
    "\n",
    "# Scatter plot of traffic volume vs. accident severity\n",
    "plt.scatter(merged_df['kamut_kle_rehev'], merged_df['HUMRAT_TEUNA'])\n",
    "plt.xlabel('Traffic Volume')\n",
    "plt.ylabel('Accident Severity (1=Fatal, 2=Severe, 3=Minor)')\n",
    "plt.title('Traffic Volume vs. Accident Severity')\n",
    "plt.show()\n"
   ]
  },
  {
   "cell_type": "code",
   "execution_count": 14,
   "metadata": {},
   "outputs": [
    {
     "name": "stdout",
     "output_type": "stream",
     "text": [
      "          X         Y\n",
      "0  199463.0  621415.0\n",
      "1  199463.0  621415.0\n",
      "2  183528.0  658855.0\n",
      "3  179491.0  531672.0\n",
      "4  179491.0  531672.0\n"
     ]
    }
   ],
   "source": [
    "# Check if the merged data has the necessary geographic coordinates\n",
    "print(merged_df[['X', 'Y']].head())\n"
   ]
  },
  {
   "cell_type": "code",
   "execution_count": 16,
   "metadata": {},
   "outputs": [],
   "source": [
    "# Export the merged DataFrame to a CSV file\n",
    "merged_df.to_csv('./merged_traffic_accidents_for_qgis.csv', index=False)\n"
   ]
  }
 ],
 "metadata": {
  "kernelspec": {
   "display_name": "Python 3",
   "language": "python",
   "name": "python3"
  },
  "language_info": {
   "codemirror_mode": {
    "name": "ipython",
    "version": 3
   },
   "file_extension": ".py",
   "mimetype": "text/x-python",
   "name": "python",
   "nbconvert_exporter": "python",
   "pygments_lexer": "ipython3",
   "version": "3.11.9"
  }
 },
 "nbformat": 4,
 "nbformat_minor": 2
}
